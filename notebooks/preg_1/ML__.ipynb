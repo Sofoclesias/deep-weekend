{
 "cells": [
  {
   "cell_type": "code",
   "execution_count": null,
   "metadata": {},
   "outputs": [],
   "source": [
    "from codes.pipelines import ML\n",
    "import warnings\n",
    "warnings.filterwarnings('ignore')"
   ]
  },
  {
   "cell_type": "code",
   "execution_count": null,
   "metadata": {},
   "outputs": [
    {
     "name": "stdout",
     "output_type": "stream",
     "text": [
      "Found 134823 files belonging to 6 classes.\n",
      "Found 5000 files belonging to 6 classes.\n",
      "Found 10000 files belonging to 6 classes.\n",
      "Training dict_keys(['tf', 'knn'])\n",
      "{'tf__max_features': [500, 1000, 5000, 10000], 'tf__max_df': [0.75, 0.85, 1.0], 'tf__use_idf': [True, False], 'knn__n_neighbors': [3, 5, 10, 15, 20]}\n"
     ]
    },
    {
     "name": "stderr",
     "output_type": "stream",
     "text": [
      "d:\\Repos\\Universidad\\deep-weekend\\.venv\\Lib\\site-packages\\sklearn\\model_selection\\_search.py:320: UserWarning: The total space of parameters 120 is smaller than n_iter=200. Running 120 iterations. For exhaustive searches, use GridSearchCV.\n",
      "  warnings.warn(\n"
     ]
    }
   ],
   "source": [
    "ml = ML('txt',yaml_path='config.yaml')\n",
    "ml.training()\n",
    "ml.test_accuracies()"
   ]
  }
 ],
 "metadata": {
  "kernelspec": {
   "display_name": ".venv",
   "language": "python",
   "name": "python3"
  },
  "language_info": {
   "codemirror_mode": {
    "name": "ipython",
    "version": 3
   },
   "file_extension": ".py",
   "mimetype": "text/x-python",
   "name": "python",
   "nbconvert_exporter": "python",
   "pygments_lexer": "ipython3",
   "version": "3.10.0"
  }
 },
 "nbformat": 4,
 "nbformat_minor": 2
}
