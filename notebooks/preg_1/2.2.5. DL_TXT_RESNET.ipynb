{
  "cells": [
    {
      "cell_type": "code",
      "execution_count": 1,
      "metadata": {
        "colab": {
          "base_uri": "https://localhost:8080/"
        },
        "id": "afGHue6eOUp7",
        "outputId": "56101725-b2d1-488c-d81b-dfda32334587"
      },
      "outputs": [
        {
          "output_type": "stream",
          "name": "stdout",
          "text": [
            "Mounted at /content/drive\n"
          ]
        }
      ],
      "source": [
        "from google.colab import drive\n",
        "drive.mount('/content/drive')"
      ]
    },
    {
      "cell_type": "code",
      "execution_count": 3,
      "metadata": {
        "id": "7N4OPkBJNjQa"
      },
      "outputs": [],
      "source": [
        "from tensorflow.keras.applications import VGG16, InceptionV3, ResNet50\n",
        "from tensorflow.keras.models import Model\n",
        "from tensorflow.keras.layers import Input, Dense, Flatten, Resizing\n",
        "from tensorflow.keras.callbacks import ModelCheckpoint, EarlyStopping\n",
        "from drive.MyDrive.DL.codes.transcription.utils import plot_training\n",
        "import tensorflow as tf\n",
        "from drive.MyDrive.DL.codes.hatespeech.pipelines import ML,binarize, vectorize\n",
        "import warnings\n",
        "warnings.filterwarnings('ignore')\n",
        "obj = 'txt'\n",
        "early_stopping = EarlyStopping(monitor='loss', patience=5)"
      ]
    },
    {
      "cell_type": "code",
      "execution_count": null,
      "metadata": {
        "colab": {
          "background_save": true,
          "base_uri": "https://localhost:8080/"
        },
        "id": "F332iEPtNjQe",
        "outputId": "39c1bfeb-30c7-4895-98af-92f8163dbb0d"
      },
      "outputs": [
        {
          "name": "stdout",
          "output_type": "stream",
          "text": [
            "Found 71496 files belonging to 6 classes.\n",
            "Found 5000 files belonging to 6 classes.\n",
            "Found 10000 files belonging to 6 classes.\n",
            "Downloading data from https://storage.googleapis.com/tensorflow/keras-applications/resnet/resnet50_weights_tf_dim_ordering_tf_kernels_notop.h5\n",
            "\u001b[1m94765736/94765736\u001b[0m \u001b[32m━━━━━━━━━━━━━━━━━━━━\u001b[0m\u001b[37m\u001b[0m \u001b[1m5s\u001b[0m 0us/step\n",
            "Epoch 1/150\n",
            "\u001b[1m2235/2235\u001b[0m \u001b[32m━━━━━━━━━━━━━━━━━━━━\u001b[0m\u001b[37m\u001b[0m \u001b[1m4625s\u001b[0m 2s/step - accuracy: 0.6260 - loss: 0.9700 - val_accuracy: 0.5510 - val_loss: 0.6991\n",
            "Epoch 2/150\n",
            "\u001b[1m2235/2235\u001b[0m \u001b[32m━━━━━━━━━━━━━━━━━━━━\u001b[0m\u001b[37m\u001b[0m \u001b[1m122s\u001b[0m 54ms/step - accuracy: 0.6313 - loss: 0.6609 - val_accuracy: 0.5510 - val_loss: 0.7046\n",
            "Epoch 3/150\n",
            "\u001b[1m2235/2235\u001b[0m \u001b[32m━━━━━━━━━━━━━━━━━━━━\u001b[0m\u001b[37m\u001b[0m \u001b[1m121s\u001b[0m 54ms/step - accuracy: 0.6303 - loss: 0.6726 - val_accuracy: 0.5510 - val_loss: 0.6987\n",
            "Epoch 4/150\n",
            "\u001b[1m2235/2235\u001b[0m \u001b[32m━━━━━━━━━━━━━━━━━━━━\u001b[0m\u001b[37m\u001b[0m \u001b[1m121s\u001b[0m 54ms/step - accuracy: 0.6308 - loss: 0.6611 - val_accuracy: 0.5516 - val_loss: 0.7020\n",
            "Epoch 5/150\n",
            "\u001b[1m2235/2235\u001b[0m \u001b[32m━━━━━━━━━━━━━━━━━━━━\u001b[0m\u001b[37m\u001b[0m \u001b[1m121s\u001b[0m 54ms/step - accuracy: 0.6304 - loss: 0.6603 - val_accuracy: 0.5510 - val_loss: 0.7021\n",
            "Epoch 6/150\n",
            "\u001b[1m2235/2235\u001b[0m \u001b[32m━━━━━━━━━━━━━━━━━━━━\u001b[0m\u001b[37m\u001b[0m \u001b[1m121s\u001b[0m 54ms/step - accuracy: 0.6307 - loss: 0.6590 - val_accuracy: 0.5524 - val_loss: 0.7156\n",
            "Epoch 7/150\n",
            "\u001b[1m2235/2235\u001b[0m \u001b[32m━━━━━━━━━━━━━━━━━━━━\u001b[0m\u001b[37m\u001b[0m \u001b[1m122s\u001b[0m 55ms/step - accuracy: 0.6306 - loss: 0.6603 - val_accuracy: 0.5508 - val_loss: 0.6986\n",
            "Epoch 8/150\n",
            "\u001b[1m2235/2235\u001b[0m \u001b[32m━━━━━━━━━━━━━━━━━━━━\u001b[0m\u001b[37m\u001b[0m \u001b[1m122s\u001b[0m 55ms/step - accuracy: 0.6311 - loss: 0.6583 - val_accuracy: 0.5510 - val_loss: 0.7001\n",
            "Epoch 9/150\n",
            "\u001b[1m2235/2235\u001b[0m \u001b[32m━━━━━━━━━━━━━━━━━━━━\u001b[0m\u001b[37m\u001b[0m \u001b[1m122s\u001b[0m 55ms/step - accuracy: 0.6310 - loss: 0.6584 - val_accuracy: 0.5508 - val_loss: 0.6991\n",
            "Epoch 10/150\n",
            "\u001b[1m2235/2235\u001b[0m \u001b[32m━━━━━━━━━━━━━━━━━━━━\u001b[0m\u001b[37m\u001b[0m \u001b[1m122s\u001b[0m 55ms/step - accuracy: 0.6310 - loss: 0.6582 - val_accuracy: 0.5510 - val_loss: 0.7016\n",
            "Epoch 11/150\n",
            "\u001b[1m2235/2235\u001b[0m \u001b[32m━━━━━━━━━━━━━━━━━━━━\u001b[0m\u001b[37m\u001b[0m \u001b[1m122s\u001b[0m 55ms/step - accuracy: 0.6308 - loss: 0.6594 - val_accuracy: 0.5510 - val_loss: 0.6998\n",
            "Epoch 12/150\n",
            "\u001b[1m2235/2235\u001b[0m \u001b[32m━━━━━━━━━━━━━━━━━━━━\u001b[0m\u001b[37m\u001b[0m \u001b[1m123s\u001b[0m 55ms/step - accuracy: 0.6309 - loss: 0.6582 - val_accuracy: 0.5510 - val_loss: 0.6996\n",
            "Epoch 13/150\n",
            "\u001b[1m2235/2235\u001b[0m \u001b[32m━━━━━━━━━━━━━━━━━━━━\u001b[0m\u001b[37m\u001b[0m \u001b[1m122s\u001b[0m 55ms/step - accuracy: 0.6311 - loss: 0.6574 - val_accuracy: 0.5510 - val_loss: 0.7002\n",
            "Epoch 14/150\n",
            "\u001b[1m2235/2235\u001b[0m \u001b[32m━━━━━━━━━━━━━━━━━━━━\u001b[0m\u001b[37m\u001b[0m \u001b[1m122s\u001b[0m 54ms/step - accuracy: 0.6312 - loss: 0.6570 - val_accuracy: 0.5510 - val_loss: 0.6992\n",
            "Epoch 15/150\n",
            "\u001b[1m2235/2235\u001b[0m \u001b[32m━━━━━━━━━━━━━━━━━━━━\u001b[0m\u001b[37m\u001b[0m \u001b[1m121s\u001b[0m 54ms/step - accuracy: 0.6313 - loss: 0.6575 - val_accuracy: 0.5508 - val_loss: 0.7007\n",
            "Epoch 16/150\n",
            "\u001b[1m2235/2235\u001b[0m \u001b[32m━━━━━━━━━━━━━━━━━━━━\u001b[0m\u001b[37m\u001b[0m \u001b[1m123s\u001b[0m 55ms/step - accuracy: 0.6310 - loss: 0.6561 - val_accuracy: 0.5512 - val_loss: 0.7019\n",
            "Epoch 17/150\n",
            "\u001b[1m2235/2235\u001b[0m \u001b[32m━━━━━━━━━━━━━━━━━━━━\u001b[0m\u001b[37m\u001b[0m \u001b[1m123s\u001b[0m 55ms/step - accuracy: 0.6313 - loss: 0.6562 - val_accuracy: 0.5508 - val_loss: 0.7000\n",
            "Epoch 18/150\n",
            "\u001b[1m2235/2235\u001b[0m \u001b[32m━━━━━━━━━━━━━━━━━━━━\u001b[0m\u001b[37m\u001b[0m \u001b[1m123s\u001b[0m 55ms/step - accuracy: 0.6315 - loss: 0.6566 - val_accuracy: 0.5504 - val_loss: 0.7014\n",
            "Epoch 19/150\n",
            "\u001b[1m2235/2235\u001b[0m \u001b[32m━━━━━━━━━━━━━━━━━━━━\u001b[0m\u001b[37m\u001b[0m \u001b[1m123s\u001b[0m 55ms/step - accuracy: 0.6313 - loss: 0.6554 - val_accuracy: 0.5510 - val_loss: 0.7019\n",
            "Epoch 20/150\n",
            "\u001b[1m2235/2235\u001b[0m \u001b[32m━━━━━━━━━━━━━━━━━━━━\u001b[0m\u001b[37m\u001b[0m \u001b[1m122s\u001b[0m 55ms/step - accuracy: 0.6310 - loss: 0.6547 - val_accuracy: 0.5512 - val_loss: 0.7048\n",
            "Epoch 21/150\n",
            "\u001b[1m2235/2235\u001b[0m \u001b[32m━━━━━━━━━━━━━━━━━━━━\u001b[0m\u001b[37m\u001b[0m \u001b[1m123s\u001b[0m 55ms/step - accuracy: 0.6314 - loss: 0.6552 - val_accuracy: 0.5514 - val_loss: 0.7023\n",
            "Epoch 22/150\n",
            "\u001b[1m2235/2235\u001b[0m \u001b[32m━━━━━━━━━━━━━━━━━━━━\u001b[0m\u001b[37m\u001b[0m \u001b[1m122s\u001b[0m 55ms/step - accuracy: 0.6320 - loss: 0.6539 - val_accuracy: 0.5486 - val_loss: 0.7040\n",
            "Epoch 23/150\n",
            "\u001b[1m2235/2235\u001b[0m \u001b[32m━━━━━━━━━━━━━━━━━━━━\u001b[0m\u001b[37m\u001b[0m \u001b[1m122s\u001b[0m 55ms/step - accuracy: 0.6317 - loss: 0.6541 - val_accuracy: 0.5502 - val_loss: 0.7043\n",
            "Epoch 24/150\n",
            "\u001b[1m2235/2235\u001b[0m \u001b[32m━━━━━━━━━━━━━━━━━━━━\u001b[0m\u001b[37m\u001b[0m \u001b[1m122s\u001b[0m 55ms/step - accuracy: 0.6330 - loss: 0.6523 - val_accuracy: 0.5498 - val_loss: 0.7056\n",
            "Epoch 25/150\n",
            "\u001b[1m2235/2235\u001b[0m \u001b[32m━━━━━━━━━━━━━━━━━━━━\u001b[0m\u001b[37m\u001b[0m \u001b[1m122s\u001b[0m 55ms/step - accuracy: 0.6331 - loss: 0.6514 - val_accuracy: 0.5488 - val_loss: 0.7082\n",
            "Epoch 26/150\n",
            "\u001b[1m2235/2235\u001b[0m \u001b[32m━━━━━━━━━━━━━━━━━━━━\u001b[0m\u001b[37m\u001b[0m \u001b[1m122s\u001b[0m 55ms/step - accuracy: 0.6347 - loss: 0.6503 - val_accuracy: 0.5468 - val_loss: 0.7091\n",
            "Epoch 27/150\n",
            "\u001b[1m2235/2235\u001b[0m \u001b[32m━━━━━━━━━━━━━━━━━━━━\u001b[0m\u001b[37m\u001b[0m \u001b[1m122s\u001b[0m 55ms/step - accuracy: 0.6360 - loss: 0.6486 - val_accuracy: 0.5492 - val_loss: 0.7129\n",
            "Epoch 28/150\n",
            "\u001b[1m2235/2235\u001b[0m \u001b[32m━━━━━━━━━━━━━━━━━━━━\u001b[0m\u001b[37m\u001b[0m \u001b[1m122s\u001b[0m 55ms/step - accuracy: 0.6367 - loss: 0.6458 - val_accuracy: 0.5468 - val_loss: 0.7162\n",
            "Epoch 29/150\n",
            "\u001b[1m2235/2235\u001b[0m \u001b[32m━━━━━━━━━━━━━━━━━━━━\u001b[0m\u001b[37m\u001b[0m \u001b[1m122s\u001b[0m 55ms/step - accuracy: 0.6393 - loss: 0.6439 - val_accuracy: 0.5434 - val_loss: 0.7212\n",
            "Epoch 30/150\n",
            "\u001b[1m2235/2235\u001b[0m \u001b[32m━━━━━━━━━━━━━━━━━━━━\u001b[0m\u001b[37m\u001b[0m \u001b[1m123s\u001b[0m 55ms/step - accuracy: 0.6404 - loss: 0.6437 - val_accuracy: 0.5458 - val_loss: 0.7213\n",
            "Epoch 31/150\n",
            "\u001b[1m2235/2235\u001b[0m \u001b[32m━━━━━━━━━━━━━━━━━━━━\u001b[0m\u001b[37m\u001b[0m \u001b[1m122s\u001b[0m 55ms/step - accuracy: 0.6420 - loss: 0.6395 - val_accuracy: 0.5462 - val_loss: 0.7240\n",
            "Epoch 32/150\n",
            "\u001b[1m2235/2235\u001b[0m \u001b[32m━━━━━━━━━━━━━━━━━━━━\u001b[0m\u001b[37m\u001b[0m \u001b[1m122s\u001b[0m 55ms/step - accuracy: 0.6418 - loss: 0.6366 - val_accuracy: 0.5436 - val_loss: 0.7308\n",
            "Epoch 33/150\n",
            "\u001b[1m2235/2235\u001b[0m \u001b[32m━━━━━━━━━━━━━━━━━━━━\u001b[0m\u001b[37m\u001b[0m \u001b[1m122s\u001b[0m 54ms/step - accuracy: 0.6467 - loss: 0.6345 - val_accuracy: 0.5482 - val_loss: 0.7283\n",
            "Epoch 34/150\n",
            "\u001b[1m2235/2235\u001b[0m \u001b[32m━━━━━━━━━━━━━━━━━━━━\u001b[0m\u001b[37m\u001b[0m \u001b[1m122s\u001b[0m 55ms/step - accuracy: 0.6482 - loss: 0.6313 - val_accuracy: 0.5480 - val_loss: 0.7412\n",
            "Epoch 35/150\n",
            "\u001b[1m2235/2235\u001b[0m \u001b[32m━━━━━━━━━━━━━━━━━━━━\u001b[0m\u001b[37m\u001b[0m \u001b[1m122s\u001b[0m 54ms/step - accuracy: 0.6508 - loss: 0.6282 - val_accuracy: 0.5500 - val_loss: 0.7345\n",
            "Epoch 36/150\n",
            "\u001b[1m2235/2235\u001b[0m \u001b[32m━━━━━━━━━━━━━━━━━━━━\u001b[0m\u001b[37m\u001b[0m \u001b[1m122s\u001b[0m 54ms/step - accuracy: 0.6500 - loss: 0.6315 - val_accuracy: 0.5562 - val_loss: 0.7394\n",
            "Epoch 37/150\n",
            "\u001b[1m1173/2235\u001b[0m \u001b[32m━━━━━━━━━━\u001b[0m\u001b[37m━━━━━━━━━━\u001b[0m \u001b[1m54s\u001b[0m 51ms/step - accuracy: 0.6452 - loss: 0.6381"
          ]
        }
      ],
      "source": [
        "train = tf.keras.utils.image_dataset_from_directory(f'/content/drive/MyDrive/DL/PREG1/hate-speech/{obj}/train',labels='inferred',label_mode='int',color_mode='rgb',batch_size=32,image_size=(224,224))\n",
        "valid = tf.keras.utils.image_dataset_from_directory(f'/content/drive/MyDrive/DL/PREG1/hate-speech/{obj}/val',labels='inferred',label_mode='int',color_mode='rgb',batch_size=32,image_size=(224,224))\n",
        "test  = tf.keras.utils.image_dataset_from_directory(f'/content/drive/MyDrive/DL/PREG1/hate-speech/{obj}/test',labels='inferred',label_mode='int',color_mode='rgb',batch_size=32,image_size=(224,224))\n",
        "\n",
        "train = train.map(binarize)\n",
        "valid = valid.map(binarize)\n",
        "test = test.map(binarize)\n",
        "\n",
        "resnet_model = ResNet50(include_top=False,input_shape=(224,224,3))\n",
        "x = Flatten()(resnet_model.output)\n",
        "x = Dense(128, activation='relu')(x)\n",
        "output = Dense(1, activation='sigmoid')(x)\n",
        "\n",
        "model = Model(inputs=resnet_model.input, outputs=output)\n",
        "model.compile(optimizer='adam', loss='binary_crossentropy', metrics=['accuracy'])\n",
        "history = model.fit(\n",
        "    train,\n",
        "    validation_data=valid,\n",
        "    epochs=150,\n",
        "    callbacks=[early_stopping]\n",
        ")\n",
        "\n",
        "model.evaluate(test)\n",
        "plot_training(history)"
      ]
    },
    {
      "cell_type": "code",
      "source": [
        "train = tf.keras.utils.text_dataset_from_directory(f'/content/drive/MyDrive/DL/PREG1/hate-speech/{obj}/train',labels='inferred',label_mode='int',batch_size=32)\n",
        "valid = tf.keras.utils.text_dataset_from_directory(f'/content/drive/MyDrive/DL/PREG1/hate-speech/{obj}/val',labels='inferred',label_mode='int',batch_size=32)\n",
        "test  = tf.keras.utils.text_dataset_from_directory(f'/content/drive/MyDrive/DL/PREG1/hate-speech/{obj}/test',labels='inferred',label_mode='int',batch_size=32)\n",
        "\n",
        "train = train.map(binarize)\n",
        "valid = valid.map(binarize)\n",
        "test = test.map(binarize)\n",
        "\n",
        "train = train.map(vectorize)\n",
        "valid = valid.map(vectorize)\n",
        "test = test.map(vectorize)\n",
        "\n",
        "resnet_model = ResNet50(include_top=False,input_shape=(224,224,1))\n",
        "\n",
        "x = Resizing(224, 224,1)(resnet_model.input)\n",
        "x = resnet_model(x)\n",
        "x = Flatten()(x)\n",
        "x = Dense(128, activation='relu')(x)\n",
        "output = Dense(1, activation='sigmoid')(x)\n",
        "\n",
        "model = Model(inputs=resnet_model.input, outputs=output)\n",
        "model.compile(optimizer='adam', loss='binary_crossentropy', metrics=['accuracy'])\n",
        "history = model.fit(\n",
        "    train,\n",
        "    validation_data=valid,\n",
        "    epochs=150,\n",
        "    callbacks=[early_stopping]\n",
        ")\n",
        "\n",
        "model.evaluate(test)\n",
        "plot_training(history)"
      ],
      "metadata": {
        "id": "yZWKmj-ZZPb4"
      },
      "execution_count": null,
      "outputs": []
    }
  ],
  "metadata": {
    "accelerator": "GPU",
    "colab": {
      "gpuType": "A100",
      "machine_shape": "hm",
      "provenance": []
    },
    "kernelspec": {
      "display_name": "Python 3",
      "name": "python3"
    },
    "language_info": {
      "codemirror_mode": {
        "name": "ipython",
        "version": 3
      },
      "file_extension": ".py",
      "mimetype": "text/x-python",
      "name": "python",
      "nbconvert_exporter": "python",
      "pygments_lexer": "ipython3",
      "version": "3.10.0"
    }
  },
  "nbformat": 4,
  "nbformat_minor": 0
}