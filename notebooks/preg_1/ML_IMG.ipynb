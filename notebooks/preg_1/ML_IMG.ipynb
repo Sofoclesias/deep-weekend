{
  "cells": [
    {
      "cell_type": "code",
      "execution_count": null,
      "metadata": {
        "id": "Gjmp0pacRbS3"
      },
      "outputs": [],
      "source": [
        "from drive.MyDrive.DL.codes.hatespeech.pipelines import ML\n",
        "import warnings\n",
        "warnings.filterwarnings('ignore')"
      ]
    },
    {
      "cell_type": "code",
      "execution_count": null,
      "metadata": {
        "id": "F82WfI1DSp_M"
      },
      "outputs": [],
      "source": [
        "from google.colab import drive\n",
        "drive.mount('/content/drive')"
      ]
    },
    {
      "cell_type": "code",
      "execution_count": null,
      "metadata": {
        "colab": {
          "base_uri": "https://localhost:8080/"
        },
        "id": "LUf1hAO2RbS3",
        "outputId": "31e5c2b7-edbc-4d23-f8f4-50d037a656ce"
      },
      "outputs": [
        {
          "output_type": "stream",
          "name": "stdout",
          "text": [
            "Found 71496 files belonging to 6 classes.\n",
            "Found 5000 files belonging to 6 classes.\n",
            "Found 10000 files belonging to 6 classes.\n"
          ]
        }
      ],
      "source": [
        "ml = ML('img',yaml_path='/content/drive/MyDrive/DL/PREG1/config.yaml')\n",
        "ml.training()\n",
        "ml.test_accuracies()"
      ]
    }
  ],
  "metadata": {
    "accelerator": "GPU",
    "colab": {
      "gpuType": "L4",
      "machine_shape": "hm",
      "provenance": []
    },
    "kernelspec": {
      "display_name": "Python 3",
      "name": "python3"
    },
    "language_info": {
      "codemirror_mode": {
        "name": "ipython",
        "version": 3
      },
      "file_extension": ".py",
      "mimetype": "text/x-python",
      "name": "python",
      "nbconvert_exporter": "python",
      "pygments_lexer": "ipython3",
      "version": "3.12.6"
    }
  },
  "nbformat": 4,
  "nbformat_minor": 0
}