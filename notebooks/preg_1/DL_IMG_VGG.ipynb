{
  "cells": [
    {
      "cell_type": "code",
      "execution_count": null,
      "metadata": {
        "id": "7N4OPkBJNjQa"
      },
      "outputs": [],
      "source": [
        "from tensorflow.keras.applications import VGG16, InceptionV3, ResNet50\n",
        "from tensorflow.keras.models import Model\n",
        "from tensorflow.keras.layers import Input, Dense, Flatten\n",
        "from tensorflow.keras.callbacks import ModelCheckpoint, EarlyStopping\n",
        "from drive.MyDrive.DL.codes.transcription.utils import plot_training\n",
        "import tensorflow as tf\n",
        "from drive.MyDrive.DL.codes.hatespeech.pipelines import ML,binarize\n",
        "import warnings\n",
        "warnings.filterwarnings('ignore')\n",
        "obj = 'img'\n",
        "early_stopping = EarlyStopping(monitor='loss', patience=5)"
      ]
    },
    {
      "cell_type": "code",
      "source": [
        "!pip install rouge_score"
      ],
      "metadata": {
        "colab": {
          "base_uri": "https://localhost:8080/"
        },
        "id": "j7PFWr0GPYiO",
        "outputId": "65100b6b-1768-4671-cc9b-236ea53c7dcc"
      },
      "execution_count": null,
      "outputs": [
        {
          "output_type": "stream",
          "name": "stdout",
          "text": [
            "Collecting rouge_score\n",
            "  Downloading rouge_score-0.1.2.tar.gz (17 kB)\n",
            "  Preparing metadata (setup.py) ... \u001b[?25l\u001b[?25hdone\n",
            "Requirement already satisfied: absl-py in /usr/local/lib/python3.10/dist-packages (from rouge_score) (1.4.0)\n",
            "Requirement already satisfied: nltk in /usr/local/lib/python3.10/dist-packages (from rouge_score) (3.8.1)\n",
            "Requirement already satisfied: numpy in /usr/local/lib/python3.10/dist-packages (from rouge_score) (1.26.4)\n",
            "Requirement already satisfied: six>=1.14.0 in /usr/local/lib/python3.10/dist-packages (from rouge_score) (1.16.0)\n",
            "Requirement already satisfied: click in /usr/local/lib/python3.10/dist-packages (from nltk->rouge_score) (8.1.7)\n",
            "Requirement already satisfied: joblib in /usr/local/lib/python3.10/dist-packages (from nltk->rouge_score) (1.4.2)\n",
            "Requirement already satisfied: regex>=2021.8.3 in /usr/local/lib/python3.10/dist-packages (from nltk->rouge_score) (2024.9.11)\n",
            "Requirement already satisfied: tqdm in /usr/local/lib/python3.10/dist-packages (from nltk->rouge_score) (4.66.6)\n",
            "Building wheels for collected packages: rouge_score\n",
            "  Building wheel for rouge_score (setup.py) ... \u001b[?25l\u001b[?25hdone\n",
            "  Created wheel for rouge_score: filename=rouge_score-0.1.2-py3-none-any.whl size=24935 sha256=54e6d218e99c44382e8932fb738fe556b96b6287f8e8717372ab34b0fb23c251\n",
            "  Stored in directory: /root/.cache/pip/wheels/5f/dd/89/461065a73be61a532ff8599a28e9beef17985c9e9c31e541b4\n",
            "Successfully built rouge_score\n",
            "Installing collected packages: rouge_score\n",
            "Successfully installed rouge_score-0.1.2\n"
          ]
        }
      ]
    },
    {
      "cell_type": "code",
      "source": [
        "from google.colab import drive\n",
        "drive.mount('/content/drive')"
      ],
      "metadata": {
        "colab": {
          "base_uri": "https://localhost:8080/"
        },
        "id": "afGHue6eOUp7",
        "outputId": "e3a82688-5c2f-4169-e8c5-dfc41658eccb"
      },
      "execution_count": null,
      "outputs": [
        {
          "output_type": "stream",
          "name": "stdout",
          "text": [
            "Mounted at /content/drive\n"
          ]
        }
      ]
    },
    {
      "cell_type": "code",
      "execution_count": null,
      "metadata": {
        "id": "i6zbsLQDNjQc",
        "colab": {
          "base_uri": "https://localhost:8080/"
        },
        "outputId": "fac4712e-3f0a-44b0-e1e6-8ff8a85dbe5a"
      },
      "outputs": [
        {
          "output_type": "stream",
          "name": "stdout",
          "text": [
            "Found 71496 files belonging to 6 classes.\n",
            "Found 5000 files belonging to 6 classes.\n",
            "Found 10000 files belonging to 6 classes.\n",
            "Epoch 1/50\n",
            "\u001b[1m2235/2235\u001b[0m \u001b[32m━━━━━━━━━━━━━━━━━━━━\u001b[0m\u001b[37m\u001b[0m \u001b[1m1998s\u001b[0m 891ms/step - accuracy: 0.3676 - loss: 1.2155 - val_accuracy: 0.4490 - val_loss: 0.7027\n",
            "Epoch 2/50\n",
            "\u001b[1m2235/2235\u001b[0m \u001b[32m━━━━━━━━━━━━━━━━━━━━\u001b[0m\u001b[37m\u001b[0m \u001b[1m114s\u001b[0m 51ms/step - accuracy: 0.3677 - loss: 0.6540 - val_accuracy: 0.4490 - val_loss: 0.7048\n",
            "Epoch 3/50\n",
            "\u001b[1m2235/2235\u001b[0m \u001b[32m━━━━━━━━━━━━━━━━━━━━\u001b[0m\u001b[37m\u001b[0m \u001b[1m115s\u001b[0m 51ms/step - accuracy: 0.3674 - loss: 0.6423 - val_accuracy: 0.4490 - val_loss: 0.7048\n",
            "Epoch 4/50\n",
            "\u001b[1m2235/2235\u001b[0m \u001b[32m━━━━━━━━━━━━━━━━━━━━\u001b[0m\u001b[37m\u001b[0m \u001b[1m115s\u001b[0m 52ms/step - accuracy: 0.3677 - loss: 0.6323 - val_accuracy: 0.4490 - val_loss: 0.7106\n",
            "Epoch 5/50\n",
            "\u001b[1m2235/2235\u001b[0m \u001b[32m━━━━━━━━━━━━━━━━━━━━\u001b[0m\u001b[37m\u001b[0m \u001b[1m115s\u001b[0m 52ms/step - accuracy: 0.3676 - loss: 0.6261 - val_accuracy: 0.4490 - val_loss: 0.7118\n",
            "Epoch 6/50\n",
            "\u001b[1m2235/2235\u001b[0m \u001b[32m━━━━━━━━━━━━━━━━━━━━\u001b[0m\u001b[37m\u001b[0m \u001b[1m115s\u001b[0m 51ms/step - accuracy: 0.3678 - loss: 0.6198 - val_accuracy: 0.4490 - val_loss: 0.7365\n",
            "Epoch 7/50\n",
            "\u001b[1m  93/2235\u001b[0m \u001b[37m━━━━━━━━━━━━━━━━━━━━\u001b[0m \u001b[1m1:42\u001b[0m 48ms/step - accuracy: 0.3662 - loss: 0.6157"
          ]
        }
      ],
      "source": [
        "train = tf.keras.utils.image_dataset_from_directory(f'/content/drive/MyDrive/DL/PREG1/hate-speech/{obj}/train',labels='inferred',label_mode='int',color_mode='rgb',batch_size=32,image_size=(224,224))\n",
        "valid = tf.keras.utils.image_dataset_from_directory(f'/content/drive/MyDrive/DL/PREG1/hate-speech/{obj}/val',labels='inferred',label_mode='int',color_mode='rgb',batch_size=32,image_size=(224,224))\n",
        "test  = tf.keras.utils.image_dataset_from_directory(f'/content/drive/MyDrive/DL/PREG1/hate-speech/{obj}/test',labels='inferred',label_mode='int',color_mode='rgb',batch_size=32,image_size=(224,224))\n",
        "\n",
        "train = train.map(binarize)\n",
        "valid = valid.map(binarize)\n",
        "test = test.map(binarize)\n",
        "\n",
        "vgg_model = VGG16(include_top=False,input_shape=(224,224,3))\n",
        "for layer in vgg_model.layers:\n",
        "    layer.trainable = False\n",
        "x = Flatten()(vgg_model.output)\n",
        "x = Dense(128, activation='relu')(x)\n",
        "output = Dense(1, activation='softmax')(x)\n",
        "\n",
        "model = Model(inputs=vgg_model.input, outputs=output)\n",
        "model.compile(optimizer='adam', loss='binary_crossentropy', metrics=['accuracy'])\n",
        "history = model.fit(\n",
        "    train,\n",
        "    validation_data=valid,\n",
        "    epochs=50,\n",
        "    callbacks=[early_stopping]\n",
        ")\n",
        "\n",
        "model.evaluate(test)\n",
        "plot_training(history)"
      ]
    },
    {
      "cell_type": "code",
      "execution_count": null,
      "metadata": {
        "id": "QYvGXfD2NjQd"
      },
      "outputs": [],
      "source": [
        "train = tf.keras.utils.image_dataset_from_directory(f'/content/drive/MyDrive/DL/PREG1/hate-speech/{obj}/train',labels='inferred',label_mode='int',color_mode='rgb',batch_size=32,image_size=(299,299))\n",
        "valid = tf.keras.utils.image_dataset_from_directory(f'/content/drive/MyDrive/DL/PREG1/hate-speech/{obj}/val',labels='inferred',label_mode='int',color_mode='rgb',batch_size=32,image_size=(299,299))\n",
        "test  = tf.keras.utils.image_dataset_from_directory(f'/content/drive/MyDrive/DL/PREG1/hate-speech/{obj}/test',labels='inferred',label_mode='int',color_mode='rgb',batch_size=32,image_size=(299,299))\n",
        "\n",
        "train = train.map(binarize)\n",
        "valid = valid.map(binarize)\n",
        "test = test.map(binarize)\n",
        "\n",
        "inception_model = InceptionV3(include_top=False,input_shape=(299,299,3))\n",
        "for layer in inception_model.layers:\n",
        "    layer.trainable = False\n",
        "x = Flatten()(inception_model.output)\n",
        "x = Dense(128, activation='relu')(x)\n",
        "output = Dense(1, activation='softmax')(x)\n",
        "\n",
        "model = Model(inputs=vgg_model.input, outputs=output)\n",
        "model.compile(optimizer='adam', loss='binary_crossentropy', metrics=['accuracy'])\n",
        "history = model.fit(\n",
        "    train,\n",
        "    validation_data=valid,\n",
        "    epochs=50,\n",
        "    callbacks=[early_stopping]\n",
        ")\n",
        "\n",
        "model.evaluate(test)\n",
        "plot_training(history)"
      ]
    },
    {
      "cell_type": "code",
      "execution_count": null,
      "metadata": {
        "id": "F332iEPtNjQe"
      },
      "outputs": [],
      "source": [
        "train = tf.keras.utils.image_dataset_from_directory(f'/content/drive/MyDrive/DL/PREG1/hate-speech/{obj}/train',labels='inferred',label_mode='int',color_mode='rgb',batch_size=32,image_size=(224,224))\n",
        "valid = tf.keras.utils.image_dataset_from_directory(f'/content/drive/MyDrive/DL/PREG1/hate-speech/{obj}/val',labels='inferred',label_mode='int',color_mode='rgb',batch_size=32,image_size=(224,224))\n",
        "test  = tf.keras.utils.image_dataset_from_directory(f'/content/drive/MyDrive/DL/PREG1/hate-speech/{obj}/test',labels='inferred',label_mode='int',color_mode='rgb',batch_size=32,image_size=(224,224))\n",
        "\n",
        "train = train.map(binarize)\n",
        "valid = valid.map(binarize)\n",
        "test = test.map(binarize)\n",
        "\n",
        "resnet_model = ResNet50(include_top=False,input_shape=(224,224,3))\n",
        "for layer in resnet_model.layers:\n",
        "    layer.trainable = False\n",
        "x = Flatten()(resnet_model.output)\n",
        "x = Dense(128, activation='relu')(x)\n",
        "output = Dense(1, activation='softmax')(x)\n",
        "\n",
        "model = Model(inputs=vgg_model.input, outputs=output)\n",
        "model.compile(optimizer='adam', loss='binary_crossentropy', metrics=['accuracy'])\n",
        "history = model.fit(\n",
        "    train,\n",
        "    validation_data=valid,\n",
        "    epochs=50,\n",
        "    callbacks=[early_stopping]\n",
        ")\n",
        "\n",
        "model.evaluate(test)\n",
        "plot_training(history)"
      ]
    }
  ],
  "metadata": {
    "kernelspec": {
      "display_name": "Python 3",
      "name": "python3"
    },
    "language_info": {
      "codemirror_mode": {
        "name": "ipython",
        "version": 3
      },
      "file_extension": ".py",
      "mimetype": "text/x-python",
      "name": "python",
      "nbconvert_exporter": "python",
      "pygments_lexer": "ipython3",
      "version": "3.10.0"
    },
    "colab": {
      "provenance": [],
      "machine_shape": "hm",
      "gpuType": "A100"
    },
    "accelerator": "GPU"
  },
  "nbformat": 4,
  "nbformat_minor": 0
}